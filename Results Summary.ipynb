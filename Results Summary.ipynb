{
 "cells": [
  {
   "cell_type": "code",
   "execution_count": null,
   "id": "935189de",
   "metadata": {},
   "outputs": [],
   "source": [
    "######################################## MULTIPLE LINEAR REGRESSION ########################################################\n",
    "#This model had an adjusted r^2 of less than 80% on both the x test and trained data, making it\n",
    "# not the best model to use. Since the adjusted r^2 was less than 80%, we can conclude that slight underfitting also took\n",
    "#place\n"
   ]
  },
  {
   "cell_type": "code",
   "execution_count": 1,
   "id": "17866e24",
   "metadata": {},
   "outputs": [],
   "source": [
    "###################################### POLYNOMIAL LINEAR REGRESSION ########################################################\n",
    "# This model is better than multiple linear regression, however, the polynomial feature degree should be less than 5th to \n",
    "# avoid major overfitting. Polynomial feature degree 3 is the best in giving the most accurate predictive model.\n",
    "#it predicts around 85% of the x train and test data correctly. Although this model is good, a better model is needed"
   ]
  },
  {
   "cell_type": "code",
   "execution_count": null,
   "id": "6433f3fe",
   "metadata": {},
   "outputs": [],
   "source": [
    "##################################### SUPPORT VECTOR REGRESSION ############################################################\n",
    "#This model had an adjusted r^2 of 88% on the x trained and test data, making it a very solid model to predict prices.\n",
    "# The algorithm for SVM effectively uses the support vector points, to alter in making a great model when compared with \n",
    "# multiple linear regression's adjusted r^2"
   ]
  },
  {
   "cell_type": "code",
   "execution_count": null,
   "id": "b903cd97",
   "metadata": {},
   "outputs": [],
   "source": [
    "##################################### DECISION TREE REGRESSION #############################################################\n",
    "# The decison tree model is by far the worst model to predict insurance prices. The algorithm split up the data up into n \n",
    "# trees, takes the average with the data from each tree, and so all predictive points in the range of each tree will be that\n",
    "#average value. This wasn't very good accurate algorithm given the dataset, as  the adjusted r^2 was only 72%, also showing that\n",
    "# underfitting must have occured as well"
   ]
  },
  {
   "cell_type": "code",
   "execution_count": 2,
   "id": "98175a2c",
   "metadata": {},
   "outputs": [],
   "source": [
    "###################################### RANDOM FOREST REGRESSION ############################################################\n",
    "#Just like SVM, Random Forest Regression has a really good adjusted r^2, with both the trained and test x data being around 87%\n",
    "# with 100 trees. The number of trees after 100, don't change the adjusted r^2 value much, but will eventually have the trained \n",
    "# x_data at a higher r^2 than the test data, showing a bit of overfitting "
   ]
  },
  {
   "cell_type": "code",
   "execution_count": 4,
   "id": "15dd6961",
   "metadata": {},
   "outputs": [],
   "source": [
    "################################## BEST MODEL ##############################################################################\n",
    "# Based on all the results, the best models to use in order to make accurate insurnace prices is the random forest regression\n",
    "# and Support Vector Regression. Their adjusted r^2 were the highest, and both their algorithms helped in making\n",
    "# the best predictive model, along with very little to no fitting bias errors"
   ]
  },
  {
   "cell_type": "code",
   "execution_count": null,
   "id": "de4451ee",
   "metadata": {},
   "outputs": [],
   "source": []
  }
 ],
 "metadata": {
  "kernelspec": {
   "display_name": "Python 3 (ipykernel)",
   "language": "python",
   "name": "python3"
  },
  "language_info": {
   "codemirror_mode": {
    "name": "ipython",
    "version": 3
   },
   "file_extension": ".py",
   "mimetype": "text/x-python",
   "name": "python",
   "nbconvert_exporter": "python",
   "pygments_lexer": "ipython3",
   "version": "3.9.7"
  }
 },
 "nbformat": 4,
 "nbformat_minor": 5
}
