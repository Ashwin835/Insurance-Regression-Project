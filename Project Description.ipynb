{
 "cells": [
  {
   "cell_type": "code",
   "execution_count": 3,
   "id": "69b67904",
   "metadata": {},
   "outputs": [],
   "source": [
    "## The dataset used for this project was obtained from the text \"Machine Learning with R\", by Brett Lantz \n",
    "## All code for this project was written solely by Ashwin Verma\n",
    "\n",
    "\n",
    "\n",
    "#####################################PROJECT DESCRIPTION####################################################\n",
    "##The cost of insurance is determined by various factors such as region and sex. Using a dataset with various independent \n",
    "##variables and an insurance price based on these variables, we want to find out which model will help in giving us the most\n",
    "##accurate insurance price predictions. Finding the best fitting model has many factors to it, but for this project only the \n",
    "## adjusted r^2 is being looked at, along with any major overfitting/underfitting.Some of the models tested are multiple linear \n",
    "##regression, polynomial regression, support vector regression, decision tree regression, and random forest regression.\n",
    "    \n",
    "\n"
   ]
  },
  {
   "cell_type": "code",
   "execution_count": null,
   "id": "e1859e6f",
   "metadata": {},
   "outputs": [],
   "source": []
  }
 ],
 "metadata": {
  "kernelspec": {
   "display_name": "Python 3 (ipykernel)",
   "language": "python",
   "name": "python3"
  },
  "language_info": {
   "codemirror_mode": {
    "name": "ipython",
    "version": 3
   },
   "file_extension": ".py",
   "mimetype": "text/x-python",
   "name": "python",
   "nbconvert_exporter": "python",
   "pygments_lexer": "ipython3",
   "version": "3.9.7"
  }
 },
 "nbformat": 4,
 "nbformat_minor": 5
}
